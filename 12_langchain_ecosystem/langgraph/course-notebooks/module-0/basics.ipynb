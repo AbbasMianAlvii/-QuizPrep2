{
  "cells": [
    {
      "cell_type": "markdown",
      "metadata": {
        "id": "view-in-github",
        "colab_type": "text"
      },
      "source": [
        "<a href=\"https://colab.research.google.com/github/AbbasMianAlvii/-QuizPrep2/blob/main/12_langchain_ecosystem/langgraph/course-notebooks/module-0/basics.ipynb\" target=\"_parent\"><img src=\"https://colab.research.google.com/assets/colab-badge.svg\" alt=\"Open In Colab\"/></a>"
      ]
    },
    {
      "cell_type": "markdown",
      "id": "ef597741-3211-4ecc-92f7-f58023ee237e",
      "metadata": {
        "id": "ef597741-3211-4ecc-92f7-f58023ee237e"
      },
      "source": [
        "# LangChain Academy\n",
        "\n",
        "Welcome to LangChain Academy!\n",
        "\n",
        "## Context\n",
        "\n",
        "At LangChain, we aim to make it easy to build LLM applications. One type of LLM application you can build is an agent. There’s a lot of excitement around building agents because they can automate a wide range of tasks that were previously impossible.\n",
        "\n",
        "In practice though, it is incredibly difficult to build systems that reliably execute on these tasks. As we’ve worked with our users to put agents into production, we’ve learned that more control is often necessary. You might need an agent to always call a specific tool first or use different prompts based on its state.\n",
        "\n",
        "To tackle this problem, we’ve built [LangGraph](https://langchain-ai.github.io/langgraph/) — a framework for building agent and multi-agent applications. Separate from the LangChain package, LangGraph’s core design philosophy is to help developers add better precision and control into agent workflows, suitable for the complexity of real-world systems.\n",
        "\n",
        "## Course Structure\n",
        "\n",
        "The course is structured as a set of modules, with each module focused on a particular theme related to LangGraph. You will see a folder for each module, which contains a series of notebooks. A video will accompany each notebook to help walk through the concepts, but the notebooks are also stand-alone, meaning that they contain explanations and can be viewed independent of the videos. Each module folder also contains a `studio` folder, which contains a set of graphs that can be loaded into [LangGraph Studio](https://github.com/langchain-ai/langgraph-studio), our IDE for building LangGraph applications.\n",
        "\n",
        "## Setup\n",
        "\n",
        "Before you begin, please follow the instructions in the `README` to create an environment and install dependencies.\n",
        "\n",
        "## Chat models\n",
        "\n",
        "In this course, we'll be using [Chat Models](https://python.langchain.com/v0.2/docs/concepts/#chat-models), which do a few things take a sequence of messages as inputs and return chat messages as outputs. LangChain does not host any Chat Models, rather we rely on third party integrations. [Here](https://python.langchain.com/v0.2/docs/integrations/chat/) is a list of 3rd party chat model integrations within LangChain! By default, the course with use [GEMINI_API_KEY](https://ai.google.dev/gemini-api/docs/api-key/) because it is both popular and performant. As noted, please ensure that you have an `GEMINI_API_KEY`.\n",
        "\n",
        "Let's check that your `GEMINI_API_KEY` is set and, if not, you will be asked to enter it."
      ]
    },
    {
      "cell_type": "code",
      "execution_count": 9,
      "id": "0f9a52c8",
      "metadata": {
        "id": "0f9a52c8"
      },
      "outputs": [],
      "source": [
        "%%capture --no-stderr\n",
        "# %pip install --quite -U langchain_openai langchain_core langchain_community tavily-python\n",
        "\n",
        "!pip install -q langchain_google_genai langchain_core langchain_community tavily-python"
      ]
    },
    {
      "cell_type": "code",
      "source": [
        "from langchain_google_genai import ChatGoogleGenerativeAI\n",
        "\n",
        "from google.colab import userdata\n",
        "GEMINI_API_KEY =userdata.get('GEMINI_API_KEY')\n",
        "llm = ChatGoogleGenerativeAI(\n",
        "    model=\"gemini-1.5-flash\",\n",
        "    api_key=GEMINI_API_KEY,\n",
        "    temperature=0\n",
        ")"
      ],
      "metadata": {
        "id": "mGrelogcD7sY"
      },
      "id": "mGrelogcD7sY",
      "execution_count": 3,
      "outputs": []
    },
    {
      "cell_type": "code",
      "source": [
        "result = llm.invoke(\"Who won the 2024 US Presidential Elections?\")\n",
        "result"
      ],
      "metadata": {
        "colab": {
          "base_uri": "https://localhost:8080/"
        },
        "id": "dk-mLdU6Iqns",
        "outputId": "6cb04ac5-d31f-4093-ab2d-4208f99125e9"
      },
      "id": "dk-mLdU6Iqns",
      "execution_count": 14,
      "outputs": [
        {
          "output_type": "execute_result",
          "data": {
            "text/plain": [
              "AIMessage(content='The 2024 US Presidential Election has not yet taken place.  The election will be held in November 2024.\\n', additional_kwargs={}, response_metadata={'prompt_feedback': {'block_reason': 0, 'safety_ratings': []}, 'finish_reason': 'STOP', 'safety_ratings': []}, id='run-8537f496-fb0f-4ec1-92ff-77e5de5d2de7-0', usage_metadata={'input_tokens': 13, 'output_tokens': 30, 'total_tokens': 43, 'input_token_details': {'cache_read': 0}})"
            ]
          },
          "metadata": {},
          "execution_count": 14
        }
      ]
    },
    {
      "cell_type": "markdown",
      "id": "28450d1b",
      "metadata": {
        "id": "28450d1b"
      },
      "source": [
        "Chat models in LangChain have a number of [default methods](https://python.langchain.com/v0.2/docs/concepts/#runnable-interface). For the most part, we'll be using:\n",
        "\n",
        "* `stream`: stream back chunks of the response\n",
        "* `invoke`: call the chain on an input\n",
        "\n",
        "And, as mentioned, chat models take [messages](https://python.langchain.com/v0.2/docs/concepts/#messages) as input. Messages have a role (that describes who is saying the message) and a content property. We'll be talking a lot more about this later, but here let's just show the basics."
      ]
    },
    {
      "cell_type": "code",
      "execution_count": 8,
      "id": "b1280e1b",
      "metadata": {
        "colab": {
          "base_uri": "https://localhost:8080/"
        },
        "id": "b1280e1b",
        "outputId": "a3a362c6-3505-4d0c-e852-d6713765c720"
      },
      "outputs": [
        {
          "output_type": "execute_result",
          "data": {
            "text/plain": [
              "AIMessage(content='There are several ways to learn LangChain, depending on your learning style and prior experience:\\n\\n**1. Official Documentation:** The best place to start is the official LangChain documentation.  It\\'s well-structured and provides comprehensive tutorials and examples.  Look for their \"Getting Started\" guides and work your way through the examples.\\n\\n**2. Tutorials and Blog Posts:** Many tutorials and blog posts are available online covering various aspects of LangChain. Search for \"LangChain tutorial\" or \"LangChain example\" on Google, YouTube, and Medium.  Look for tutorials that focus on specific use cases that interest you, such as building a chatbot or a question-answering system.\\n\\n**3. GitHub Repository:** Explore the LangChain GitHub repository.  You can find the source code, contribute to the project, and see how different components are implemented.  This is helpful for understanding the inner workings of LangChain.\\n\\n**4. Courses and Workshops:** While not as prevalent as for some other technologies, you might find online courses or workshops specifically on LangChain or related topics like LLM application development.  Check platforms like Coursera, Udemy, and edX.\\n\\n**5. Hands-on Projects:** The most effective way to learn LangChain is by building projects. Start with small, manageable projects and gradually increase the complexity.  Try building a simple chatbot, a document question-answering system, or a summarization tool.  This will solidify your understanding and allow you to apply what you\\'ve learned.\\n\\n**Learning Path Suggestion:**\\n\\n1. **Start with the official documentation\\'s \"Getting Started\" guide.** This will give you a foundational understanding of the core concepts and components.\\n2. **Work through a few simple tutorials.** This will help you understand how to use LangChain in practice.\\n3. **Choose a project that interests you.** This will keep you motivated and help you apply your knowledge.\\n4. **Refer to the documentation and online resources as needed.** Don\\'t be afraid to ask questions on forums or communities dedicated to LangChain.\\n\\n\\nRemember to have a basic understanding of Python programming before diving into LangChain.  If you\\'re new to Python, spend some time learning the basics first.  Good luck!\\n', additional_kwargs={}, response_metadata={'prompt_feedback': {'block_reason': 0, 'safety_ratings': []}, 'finish_reason': 'STOP', 'safety_ratings': []}, id='run-56523051-54c5-4f27-853c-7d1f1ac3a827-0', usage_metadata={'input_tokens': 40, 'output_tokens': 464, 'total_tokens': 504, 'input_token_details': {'cache_read': 0}})"
            ]
          },
          "metadata": {},
          "execution_count": 8
        }
      ],
      "source": [
        "from langchain_core.messages import HumanMessage, AIMessage\n",
        "\n",
        "# Create a message\n",
        "# Message list\n",
        "messages = [\n",
        "    HumanMessage(content=\"Hi\", name=\"Human Student\"),\n",
        "    AIMessage(content='Hi there! How can I help you today?\\n', name=\"AI Assistant\"),\n",
        "    HumanMessage(content=\"What is Langchain?\", name=\"Human Student\"),\n",
        "    AIMessage(content=\"LangChain is a framework for developing applications powered by language models.\", name=\"AI Assistant\"),\n",
        "    HumanMessage(content=\"How can I learn?\", name=\"Human Student\")\n",
        "]\n",
        "\n",
        "# Invoke the model with a list of messages\n",
        "llm.invoke(messages)\n",
        "\n"
      ]
    },
    {
      "cell_type": "markdown",
      "id": "cac73e4c",
      "metadata": {
        "id": "cac73e4c"
      },
      "source": [
        "We get an `AIMessage` response. Also, note that we can just invoke a chat model with a string. When a string is passed in as input, it is converted to a `HumanMessage` and then passed to the underlying model.\n"
      ]
    },
    {
      "cell_type": "markdown",
      "id": "582c0e5a",
      "metadata": {
        "id": "582c0e5a"
      },
      "source": [
        "The interface is consistent across all chat models and models are typically initialized once at the start up each notebooks.\n",
        "\n",
        "So, you can easily switch between models without changing the downstream code if you have strong preference for another provider.\n"
      ]
    },
    {
      "cell_type": "markdown",
      "id": "3ad0069a",
      "metadata": {
        "id": "3ad0069a"
      },
      "source": [
        "## Search Tools\n",
        "\n",
        "You'll also see [Tavily](https://tavily.com/) in the README, which is a search engine optimized for LLMs and RAG, aimed at efficient, quick, and persistent search results. As mentioned, it's easy to sign up and offers a generous free tier. Some lessons (in Module 4) will use Tavily by default but, of course, other search tools can be used if you want to modify the code for yourself."
      ]
    },
    {
      "cell_type": "code",
      "source": [
        "_set_env = (\"TAVILY_API_KEY\")"
      ],
      "metadata": {
        "id": "keUHYqxnQPsh"
      },
      "id": "keUHYqxnQPsh",
      "execution_count": 17,
      "outputs": []
    },
    {
      "cell_type": "code",
      "execution_count": 15,
      "id": "52d69da9",
      "metadata": {
        "id": "52d69da9"
      },
      "outputs": [],
      "source": [
        "import os\n",
        "from google.colab import userdata\n",
        "TAVILY_API_KEY = userdata.get('TAVILY_API_KEY')\n",
        "os.environ[\"TAVILY_API_KEY\"] = userdata.get(\"TAVILY_API_KEY\")\n",
        "\n",
        "from langchain_community.tools.tavily_search import TavilySearchResults\n",
        "tool = TavilySearchResults(max_results=2)\n",
        "tavily_search = TavilySearchResults(max_results=3)\n",
        "search_docs = tavily_search.invoke(\"Who won the 2024 US Presidential Elections?\")"
      ]
    },
    {
      "cell_type": "code",
      "source": [
        "search_docs"
      ],
      "metadata": {
        "colab": {
          "base_uri": "https://localhost:8080/"
        },
        "id": "JWzZ6zAvb2Fv",
        "outputId": "44be31f7-330e-4247-c53d-4fe28d3bd038"
      },
      "id": "JWzZ6zAvb2Fv",
      "execution_count": 16,
      "outputs": [
        {
          "output_type": "execute_result",
          "data": {
            "text/plain": [
              "[{'url': 'https://www.latimes.com/politics/story/2024-11-06/trump-defeats-harris-47th-president-election-2024',\n",
              "  'content': 'Trump wins 2024 U.S. presidential election - Los Angeles Times Trump elected 47th president of the United States, defeating Harris to retake White House Nancy Northup, President and CEO of the Center for Reproductive Rights, called Trump’s win “a deadly threat to the democratic values of liberty and equality, the rule of law, and reproductive health, rights, and justice in the United States and around the globe.” “The Democrats thought there were enough people who hated Trump or were willing to fear him to win the race,” Jennings said. 2024 election results: Trump wins second term in historic comeback'},\n",
              " {'url': 'https://www.cnn.com/election/2024/results/president',\n",
              "  'content': \"Presidential election results 2024 | CNN Politics CNN10 About CNN Watch CNN CNN Harris is hoping to become the first woman elected president, while Trump is vying to become only the second former president to win a nonconsecutive second term after Grover Cleveland in 1892. Maine 4 Electoral Votes Harris 0Trump 0 Nebraska 5 Electoral Votes Harris 0Trump 0 What's so important to note here is that Harris' best path to 270 electoral votes in pre-election polls ran through Michigan, Pennsylvania and Wisconsin. Dems may need to hold their seats in Ohio and Montana -- two states Trump won twice before -- along with MI, WI, PA, AZ, NV and MD to keep the Senate at 50-50 and hope Harris wins to give them control of the chamber. CNN10 About CNN\"},\n",
              " {'url': 'https://en.wikipedia.org/wiki/2024_United_States_presidential_election',\n",
              "  'content': 'Meanwhile, states like Colorado, New Mexico and Virginia have moved noticeably towards the Democrats, and the party has become the dominant political force there.[29][30][31]\\nThe Democratic electoral coalition, securing the \"blue states\" for Democratic presidential candidates, performs best among Jewish and Black voters;[32][33] whites who are wealthy or postgraduates,[34] or live in urban areas.[35] Working class voters were also a mainstay of the Democratic coalition since the days of the New Deal, but since the 1970s, many have defected to Republicans as the Democratic Party moved significantly to the left on cultural issues.[36] Conversely, the traditional Republican coalition that dominates many \"red states\" is mainly composed of rural white voters, evangelicals, the elderly, and non-college educated voters.[37]\\nRepublicans have also historically performed well with suburban, middle class voters since the 1950s, but this bloc has drifted away from them in recent years due to the rise of the Tea Party movement and later the Make America Great Again movement.[38] Biden\\'s support for Israel has greatly damaged Muslim support for Democrats in polling.[80] Polling has indicated a significant divide between elite opinion of the Israel–Hamas war, which has overwhelmingly taken the side of Israel, and the general public.[81] A plurality of Americans oppose American military aid to Israel and believe that the United States \"should be a neutral mediator\" in the Israel-Palestinian conflict rather than taking a side.[81] Among voters 18-34, 66 percent disapprove of Israel’s conduct during the war and 20 percent approve, while a majority take the side of Palestinians predominately in the conflict.[82]\\nHealthcare issues\\nThe issue of healthcare and drug policy, including whether the United States should shift to a universal healthcare system,[83] and the COVID-19 pandemic is expected to play a key role in the 2024 presidential election.[84]\\n If Trump is elected, he would become the second president to win a second non-consecutive term, joining Grover Cleveland who did so in 1892.[15]\\nElection interference\\nDonald Trump did not concede to Joe Biden in the 2020 presidential election, citing unsubstantiated claims of voter fraud, and has continued denying the election results as of 2023[update].[16][17] Election security experts have warned that officials who deny the legitimacy of the 2020 presidential election may attempt to impede the voting process or refuse to certify the 2024 election results.[18]\\nPolling before the election has indicated profound dissatisfaction with the state of American democracy.[19][20][21] Liberals tend to believe that conservatives are threatening the country with autocratic tendencies and their attempts to overturn the 2020 election.[22] Many Republicans are concerned with attempts to prevent former President Trump from holding public office by any means necessary, including impeachment and indictment.[23]\\nElectoral map\\n Supporters of the laws claim that conversations about racial identity are not appropriate for a school environment.[66][67][10] Critics of the laws against critical race theory claim they whitewash American history and act as memory laws to rewrite public memory of U.S. history.[68]\\nForeign policy\\nThe Israel–Hamas war and Russian invasion of Ukraine are expected to be significant issues of the campaign.[69]\\nThe United States has provided significant military and humanitarian aid to Ukraine throughout the Russian invasion of Ukraine.[70][71][72] Democratic politicians and a significant number of Republican politicians have supported this plan, arguing that the United States has a significant role to play in \"protecting democracy and fighting Russian aggression. This will be the first U.S. presidential election to occur after the reapportionment of votes in the United States Electoral College following the 2020 United States census.[24][25] If the results of the 2020 election were to stay the same (which has never occurred in the history of presidential elections) in 2024, Democrats would have 303 electoral votes against the Republicans\\' 235, a slight change from Biden\\'s 306 electoral votes and Trump\\'s 232, meaning that Democrats lost a net of 3 electoral votes to the reapportionment process.'}]"
            ]
          },
          "metadata": {},
          "execution_count": 16
        }
      ]
    }
  ],
  "metadata": {
    "kernelspec": {
      "display_name": "Python 3 (ipykernel)",
      "language": "python",
      "name": "python3"
    },
    "language_info": {
      "codemirror_mode": {
        "name": "ipython",
        "version": 3
      },
      "file_extension": ".py",
      "mimetype": "text/x-python",
      "name": "python",
      "nbconvert_exporter": "python",
      "pygments_lexer": "ipython3",
      "version": "3.12.3"
    },
    "colab": {
      "provenance": [],
      "include_colab_link": true
    }
  },
  "nbformat": 4,
  "nbformat_minor": 5
}